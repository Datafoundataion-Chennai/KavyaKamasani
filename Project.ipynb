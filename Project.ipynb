{
 "cells": [
  {
   "cell_type": "code",
   "execution_count": null,
   "id": "bc08a3ff-7251-4191-9d1e-25a7cfb170a2",
   "metadata": {},
   "outputs": [],
   "source": [
    "import random\n",
    "class Character:\n",
    "    def __init__(self,name,health,attack_power,defense,speed):\n",
    "        self.name=name\n",
    "        self.health=health\n",
    "        self.attack_power=attack_power\n",
    "        self.defense=defense\n",
    "        self.speed=speed\n",
    "    def attack(self,target):\n",
    "        damage=self.attack_power - target.defense\n",
    "        damage =max(1,damage)\n",
    "        target.take_damage(damage)\n",
    "    def take_damage(self,amount):\n",
    "        self.health -=amount\n",
    "        if self.health <0:\n",
    "            self.health=0\n",
    "    def isalive(self):\n",
    "        if self.health > 0:\n",
    "            print(\"player is alive\")\n",
    "            return self.health >0\n",
    "\n",
    "class Warrior(Character):\n",
    "    def __init__(self,name,health=100,attack_power=25,defense=45,speed=10):\n",
    "        super().__init__(name,health,attack_power,defense,speed)\n",
    "        self.rage=0\n",
    "    def berserk_mode(self):\n",
    "        if self.health < 30:\n",
    "            self.attack_power= 2* self.attack_power\n",
    "class Mage(Character):\n",
    "    def _init_(self, mana):\n",
    "        super()._init_(name, health=80, attack_power=30, defense=5, speed=7)\n",
    "        self.mana = 0\n",
    "    def fireball(self,target):\n",
    "        pass\n",
    "    \n",
    "class Archer(Character):\n",
    "    def _init_(self, critical_chance):\n",
    "        super()._init_(name, health=90, attack_power=22, defense=7, speed=10)\n",
    "        self.critical_chance = 30\n",
    "        \n",
    "    def attack(self, target):\n",
    "        critical_hit = random.randint(1, 100) <= self.critical_chance\n",
    "        damage = self.attack_power * (2 if critical_hit else 1)\n",
    "        target.take_damage(damage)\n",
    "        if critical_hit:\n",
    "            print(\" critical hit\")\n",
    "        else:\n",
    "            print(\"normal arrow\")\n",
    "def battle(p1,p2):\n",
    "    print(\"Battle Information\")\n",
    "    pass\n"
   ]
  }
 ],
 "metadata": {
  "kernelspec": {
   "display_name": "Python 3 (ipykernel)",
   "language": "python",
   "name": "python3"
  },
  "language_info": {
   "codemirror_mode": {
    "name": "ipython",
    "version": 3
   },
   "file_extension": ".py",
   "mimetype": "text/x-python",
   "name": "python",
   "nbconvert_exporter": "python",
   "pygments_lexer": "ipython3",
   "version": "3.10.9"
  }
 },
 "nbformat": 4,
 "nbformat_minor": 5
}
