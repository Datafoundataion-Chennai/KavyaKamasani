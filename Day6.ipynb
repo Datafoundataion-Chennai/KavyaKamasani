{
 "cells": [
  {
   "cell_type": "code",
   "execution_count": 7,
   "id": "d15453d1-53f6-4097-b873-62596665a8c8",
   "metadata": {},
   "outputs": [
    {
     "ename": "SyntaxError",
     "evalue": "invalid syntax (3347130455.py, line 47)",
     "output_type": "error",
     "traceback": [
      "\u001b[1;36m  Cell \u001b[1;32mIn[7], line 47\u001b[1;36m\u001b[0m\n\u001b[1;33m    return maze(new_x,new_y)= find_postion(\"P\")\u001b[0m\n\u001b[1;37m                            ^\u001b[0m\n\u001b[1;31mSyntaxError\u001b[0m\u001b[1;31m:\u001b[0m invalid syntax\n"
     ]
    }
   ],
   "source": [
    "import random\n",
    "import time\n",
    "\n",
    "# Define the maze grid\n",
    "maze = [\n",
    "    [\"#\", \"#\", \"#\", \"#\", \"#\", \"#\", \"#\", \"#\"],\n",
    "    [\"#\", \"P\", \".\", \".\", \"#\", \".\", \"E\", \"#\"],\n",
    "    [\"#\", \"#\", \"#\", \".\", \"#\", \".\", \"#\", \"#\"],\n",
    "    [\"#\", \".\", \"G\", \".\", \".\", \".\", \".\", \"#\"],\n",
    "    [\"#\", \"#\", \"#\", \"#\", \"#\", \"#\", \"#\", \"#\"]\n",
    "]\n",
    "\n",
    "# Function to display the maze\n",
    "def print_maze():\n",
    "    for row in maze:\n",
    "        print(\" \".join(row))\n",
    "    print(\"\\n\")\n",
    "\n",
    "# Function to find the position of an element (P, G, E)\n",
    "def find_position(symbol):\n",
    "    for i in range(len(maze)):\n",
    "        for j in range(len(maze[i])):\n",
    "            if maze[i][j] == symbol:\n",
    "                return (i, j)\n",
    "    return None\n",
    "\n",
    "# Function to move the player\n",
    "def move_player(direction):\n",
    "    global maze\n",
    "    px, py = find_position(\"P\")\n",
    "    \n",
    "    # Calculate new position based on input\n",
    "    new_x, new_y = px, py\n",
    "    if direction == \"W\": new_x -= 1  # Up\n",
    "    elif direction == \"S\": new_x += 1  # Down\n",
    "    elif direction == \"A\": new_y -= 1  # Left\n",
    "    elif direction == \"D\": new_y += 1  # Right\n",
    "    \n",
    "# TODO: Handle wall collisions\n",
    "    if maze[new_x][new_y]==\"#\":\n",
    "        return \"Wall Error\"\n",
    "    # TODO: Handle reaching the exit\n",
    "    if maze [new_x][new_y]==\"E\":\n",
    "        return \"Escaped\"\n",
    "    # TODO: Handle valid movement updates\n",
    "    maze[px][py] = \".\"\n",
    "    maze[new_x][new_y] = \"P\"\n",
    "            \n",
    "    \n",
    "        \n",
    "\n",
    "# Function to move the ghosts towards the player\n",
    "def move_ghosts():\n",
    "    global maze\n",
    "    px, py = find_position(\"P\")\n",
    "    gx, gy = find_position(\"G\")\n",
    "\n",
    "    # TODO: Implement logic to move ghost closer to player\n",
    "    \n",
    "    \n",
    "\n",
    "# Game loop\n",
    "def game_loop():\n",
    "    print(\"🎃 Welcome to the Haunted Maze! Escape before the ghosts catch you! 👻\")\n",
    "    print_maze()\n",
    "    \n",
    "    while True:\n",
    "        direction = input(\"Move (W/A/S/D): \").upper()\n",
    "        if direction not in [\"W\", \"A\", \"S\", \"D\"]:\n",
    "            print(\"Invalid move! Use W (up), A (left), S (down), D (right)\")\n",
    "            continue\n",
    "        \n",
    "        move_player(direction)  # Move player\n",
    "        move_ghosts()  # Move ghosts\n",
    "        print_maze()\n",
    "        \n",
    "        if (new_gx, new_gy) == (px, py):\n",
    "        (\"Lose\")\n",
    "        else:\n",
    "    \n",
    "        \n",
    "        # TODO: Check win condition\n",
    "        # TODO: Check lose condition\n",
    "\n",
    "game_loop()\n"
   ]
  },
  {
   "cell_type": "code",
   "execution_count": 1,
   "id": "688277cd-e2db-4962-a281-ed76804dba34",
   "metadata": {},
   "outputs": [
    {
     "ename": "IndentationError",
     "evalue": "expected an indented block after 'except' statement on line 48 (282228211.py, line 52)",
     "output_type": "error",
     "traceback": [
      "\u001b[1;36m  Cell \u001b[1;32mIn[1], line 52\u001b[1;36m\u001b[0m\n\u001b[1;33m    def move_ghosts():\u001b[0m\n\u001b[1;37m                      ^\u001b[0m\n\u001b[1;31mIndentationError\u001b[0m\u001b[1;31m:\u001b[0m expected an indented block after 'except' statement on line 48\n"
     ]
    }
   ],
   "source": []
  },
  {
   "cell_type": "code",
   "execution_count": null,
   "id": "932b19fc-3a6d-4e19-b519-0ad56e789936",
   "metadata": {},
   "outputs": [],
   "source": []
  }
 ],
 "metadata": {
  "kernelspec": {
   "display_name": "Python 3 (ipykernel)",
   "language": "python",
   "name": "python3"
  },
  "language_info": {
   "codemirror_mode": {
    "name": "ipython",
    "version": 3
   },
   "file_extension": ".py",
   "mimetype": "text/x-python",
   "name": "python",
   "nbconvert_exporter": "python",
   "pygments_lexer": "ipython3",
   "version": "3.10.9"
  }
 },
 "nbformat": 4,
 "nbformat_minor": 5
}
